{
 "cells": [
  {
   "cell_type": "code",
   "execution_count": null,
   "metadata": {
    "collapsed": true
   },
   "outputs": [],
   "source": [
    "import pandas as pd\n"
   ]
  },
  {
   "cell_type": "code",
   "execution_count": 1,
   "metadata": {},
   "outputs": [
    {
     "ename": "NameError",
     "evalue": "name 'pd' is not defined",
     "output_type": "error",
     "traceback": [
      "\u001b[1;31m\u001b[0m",
      "\u001b[1;31mNameError\u001b[0mTraceback (most recent call last)",
      "\u001b[1;32m<ipython-input-1-4d5b1e5f0d7f>\u001b[0m in \u001b[0;36m<module>\u001b[1;34m()\u001b[0m\n\u001b[1;32m----> 1\u001b[1;33m \u001b[0mpd\u001b[0m\u001b[1;33m.\u001b[0m\u001b[0mread_csv\u001b[0m\u001b[1;33m(\u001b[0m\u001b[1;34m\"http://www.firstpythonnotebook.org/_static/committees.csv\"\u001b[0m\u001b[1;33m)\u001b[0m\u001b[1;33m\u001b[0m\u001b[0m\n\u001b[0m",
      "\u001b[1;31mNameError\u001b[0m: name 'pd' is not defined"
     ]
    }
   ],
   "source": [
    "pd.read_csv(\"http://www.firstpythonnotebook.org/_static/committees.csv\")"
   ]
  },
  {
   "cell_type": "code",
   "execution_count": null,
   "metadata": {
    "collapsed": true
   },
   "outputs": [],
   "source": [
    "import pandas as pd"
   ]
  },
  {
   "cell_type": "code",
   "execution_count": null,
   "metadata": {
    "collapsed": true
   },
   "outputs": [],
   "source": []
  },
  {
   "cell_type": "code",
   "execution_count": 3,
   "metadata": {},
   "outputs": [
    {
     "ename": "NameError",
     "evalue": "name 'pd' is not defined",
     "output_type": "error",
     "traceback": [
      "\u001b[1;31m\u001b[0m",
      "\u001b[1;31mNameError\u001b[0mTraceback (most recent call last)",
      "\u001b[1;32m<ipython-input-3-e6b0bcd0fcc1>\u001b[0m in \u001b[0;36m<module>\u001b[1;34m()\u001b[0m\n\u001b[1;32m----> 1\u001b[1;33m \u001b[0mpd\u001b[0m\u001b[1;33m.\u001b[0m\u001b[0mread_excel\u001b[0m\u001b[1;33m(\u001b[0m\u001b[1;34m\"http://www.firstpythonnotebook.org/_static/committees.csv\"\u001b[0m\u001b[1;33m)\u001b[0m\u001b[1;33m\u001b[0m\u001b[0m\n\u001b[0m",
      "\u001b[1;31mNameError\u001b[0m: name 'pd' is not defined"
     ]
    }
   ],
   "source": [
    "pd.read_excel(\"http://www.firstpythonnotebook.org/_static/committees.csv\")"
   ]
  },
  {
   "cell_type": "code",
   "execution_count": null,
   "metadata": {
    "collapsed": true
   },
   "outputs": [],
   "source": [
    "import pandas as pd"
   ]
  },
  {
   "cell_type": "code",
   "execution_count": 4,
   "metadata": {},
   "outputs": [
    {
     "ename": "NameError",
     "evalue": "name 'pd' is not defined",
     "output_type": "error",
     "traceback": [
      "\u001b[1;31m\u001b[0m",
      "\u001b[1;31mNameError\u001b[0mTraceback (most recent call last)",
      "\u001b[1;32m<ipython-input-4-50f1949224f0>\u001b[0m in \u001b[0;36m<module>\u001b[1;34m()\u001b[0m\n\u001b[1;32m----> 1\u001b[1;33m \u001b[0mpd\u001b[0m\u001b[1;33m.\u001b[0m\u001b[0mread_csv\u001b[0m\u001b[1;33m(\u001b[0m\u001b[1;34m'http://www.firstpythonnotebook.org/_static/committees.csv'\u001b[0m\u001b[1;33m)\u001b[0m\u001b[1;33m\u001b[0m\u001b[0m\n\u001b[0m",
      "\u001b[1;31mNameError\u001b[0m: name 'pd' is not defined"
     ]
    }
   ],
   "source": [
    "pd.read_csv('http://www.firstpythonnotebook.org/_static/committees.csv')"
   ]
  },
  {
   "cell_type": "code",
   "execution_count": null,
   "metadata": {
    "collapsed": true
   },
   "outputs": [],
   "source": [
    "import pandas as pd"
   ]
  },
  {
   "cell_type": "code",
   "execution_count": 5,
   "metadata": {},
   "outputs": [
    {
     "ename": "NameError",
     "evalue": "name 'pd' is not defined",
     "output_type": "error",
     "traceback": [
      "\u001b[1;31m\u001b[0m",
      "\u001b[1;31mNameError\u001b[0mTraceback (most recent call last)",
      "\u001b[1;32m<ipython-input-5-077123c98751>\u001b[0m in \u001b[0;36m<module>\u001b[1;34m()\u001b[0m\n\u001b[1;32m----> 1\u001b[1;33m \u001b[0mpd\u001b[0m\u001b[1;33m.\u001b[0m\u001b[0mread_excel\u001b[0m\u001b[1;33m(\u001b[0m\u001b[1;34m'http://qrc.depaul.edu/Excel_Files/Presidents.xls'\u001b[0m\u001b[1;33m)\u001b[0m\u001b[1;33m\u001b[0m\u001b[0m\n\u001b[0m",
      "\u001b[1;31mNameError\u001b[0m: name 'pd' is not defined"
     ]
    }
   ],
   "source": [
    "pd.read_excel('http://qrc.depaul.edu/Excel_Files/Presidents.xls')"
   ]
  },
  {
   "cell_type": "code",
   "execution_count": null,
   "metadata": {
    "collapsed": true
   },
   "outputs": [],
   "source": [
    "import pandas as pd"
   ]
  },
  {
   "cell_type": "code",
   "execution_count": 6,
   "metadata": {},
   "outputs": [
    {
     "ename": "NameError",
     "evalue": "name 'pd' is not defined",
     "output_type": "error",
     "traceback": [
      "\u001b[1;31m\u001b[0m",
      "\u001b[1;31mNameError\u001b[0mTraceback (most recent call last)",
      "\u001b[1;32m<ipython-input-6-b203f3cf59fa>\u001b[0m in \u001b[0;36m<module>\u001b[1;34m()\u001b[0m\n\u001b[1;32m----> 1\u001b[1;33m \u001b[0mpd\u001b[0m\u001b[1;33m.\u001b[0m\u001b[0mread_csv\u001b[0m\u001b[1;33m(\u001b[0m\u001b[1;34m\"‪C:\\Users\\Jonas\\Code\\first-python-notebook\\data\\committees.csv\"\u001b[0m\u001b[1;33m)\u001b[0m\u001b[1;33m\u001b[0m\u001b[0m\n\u001b[0m",
      "\u001b[1;31mNameError\u001b[0m: name 'pd' is not defined"
     ]
    }
   ],
   "source": [
    "pd.read_csv(\"‪C:\\Users\\Jonas\\Code\\first-python-notebook\\data\\committees.csv\")"
   ]
  },
  {
   "cell_type": "code",
   "execution_count": 7,
   "metadata": {},
   "outputs": [
    {
     "data": {
      "text/plain": [
       "4"
      ]
     },
     "execution_count": 7,
     "metadata": {},
     "output_type": "execute_result"
    }
   ],
   "source": [
    "2+2"
   ]
  },
  {
   "cell_type": "code",
   "execution_count": 8,
   "metadata": {
    "collapsed": true
   },
   "outputs": [],
   "source": [
    "import pandas as pd"
   ]
  },
  {
   "cell_type": "code",
   "execution_count": 9,
   "metadata": {},
   "outputs": [
    {
     "ename": "IOError",
     "evalue": "File â€ªC:\\Users\\Jonas\\Code\first-python-notebook\\data\\committees.csv does not exist",
     "output_type": "error",
     "traceback": [
      "\u001b[1;31m\u001b[0m",
      "\u001b[1;31mIOError\u001b[0mTraceback (most recent call last)",
      "\u001b[1;32m<ipython-input-9-b203f3cf59fa>\u001b[0m in \u001b[0;36m<module>\u001b[1;34m()\u001b[0m\n\u001b[1;32m----> 1\u001b[1;33m \u001b[0mpd\u001b[0m\u001b[1;33m.\u001b[0m\u001b[0mread_csv\u001b[0m\u001b[1;33m(\u001b[0m\u001b[1;34m\"‪C:\\Users\\Jonas\\Code\\first-python-notebook\\data\\committees.csv\"\u001b[0m\u001b[1;33m)\u001b[0m\u001b[1;33m\u001b[0m\u001b[0m\n\u001b[0m",
      "\u001b[1;32mc:\\users\\jonas\\code\\first-python-notebook\\lib\\site-packages\\pandas\\io\\parsers.pyc\u001b[0m in \u001b[0;36mparser_f\u001b[1;34m(filepath_or_buffer, sep, delimiter, header, names, index_col, usecols, squeeze, prefix, mangle_dupe_cols, dtype, engine, converters, true_values, false_values, skipinitialspace, skiprows, nrows, na_values, keep_default_na, na_filter, verbose, skip_blank_lines, parse_dates, infer_datetime_format, keep_date_col, date_parser, dayfirst, iterator, chunksize, compression, thousands, decimal, lineterminator, quotechar, quoting, escapechar, comment, encoding, dialect, tupleize_cols, error_bad_lines, warn_bad_lines, skipfooter, skip_footer, doublequote, delim_whitespace, as_recarray, compact_ints, use_unsigned, low_memory, buffer_lines, memory_map, float_precision)\u001b[0m\n\u001b[0;32m    653\u001b[0m                     skip_blank_lines=skip_blank_lines)\n\u001b[0;32m    654\u001b[0m \u001b[1;33m\u001b[0m\u001b[0m\n\u001b[1;32m--> 655\u001b[1;33m         \u001b[1;32mreturn\u001b[0m \u001b[0m_read\u001b[0m\u001b[1;33m(\u001b[0m\u001b[0mfilepath_or_buffer\u001b[0m\u001b[1;33m,\u001b[0m \u001b[0mkwds\u001b[0m\u001b[1;33m)\u001b[0m\u001b[1;33m\u001b[0m\u001b[0m\n\u001b[0m\u001b[0;32m    656\u001b[0m \u001b[1;33m\u001b[0m\u001b[0m\n\u001b[0;32m    657\u001b[0m     \u001b[0mparser_f\u001b[0m\u001b[1;33m.\u001b[0m\u001b[0m__name__\u001b[0m \u001b[1;33m=\u001b[0m \u001b[0mname\u001b[0m\u001b[1;33m\u001b[0m\u001b[0m\n",
      "\u001b[1;32mc:\\users\\jonas\\code\\first-python-notebook\\lib\\site-packages\\pandas\\io\\parsers.pyc\u001b[0m in \u001b[0;36m_read\u001b[1;34m(filepath_or_buffer, kwds)\u001b[0m\n\u001b[0;32m    403\u001b[0m \u001b[1;33m\u001b[0m\u001b[0m\n\u001b[0;32m    404\u001b[0m     \u001b[1;31m# Create the parser.\u001b[0m\u001b[1;33m\u001b[0m\u001b[1;33m\u001b[0m\u001b[0m\n\u001b[1;32m--> 405\u001b[1;33m     \u001b[0mparser\u001b[0m \u001b[1;33m=\u001b[0m \u001b[0mTextFileReader\u001b[0m\u001b[1;33m(\u001b[0m\u001b[0mfilepath_or_buffer\u001b[0m\u001b[1;33m,\u001b[0m \u001b[1;33m**\u001b[0m\u001b[0mkwds\u001b[0m\u001b[1;33m)\u001b[0m\u001b[1;33m\u001b[0m\u001b[0m\n\u001b[0m\u001b[0;32m    406\u001b[0m \u001b[1;33m\u001b[0m\u001b[0m\n\u001b[0;32m    407\u001b[0m     \u001b[1;32mif\u001b[0m \u001b[0mchunksize\u001b[0m \u001b[1;32mor\u001b[0m \u001b[0miterator\u001b[0m\u001b[1;33m:\u001b[0m\u001b[1;33m\u001b[0m\u001b[0m\n",
      "\u001b[1;32mc:\\users\\jonas\\code\\first-python-notebook\\lib\\site-packages\\pandas\\io\\parsers.pyc\u001b[0m in \u001b[0;36m__init__\u001b[1;34m(self, f, engine, **kwds)\u001b[0m\n\u001b[0;32m    762\u001b[0m             \u001b[0mself\u001b[0m\u001b[1;33m.\u001b[0m\u001b[0moptions\u001b[0m\u001b[1;33m[\u001b[0m\u001b[1;34m'has_index_names'\u001b[0m\u001b[1;33m]\u001b[0m \u001b[1;33m=\u001b[0m \u001b[0mkwds\u001b[0m\u001b[1;33m[\u001b[0m\u001b[1;34m'has_index_names'\u001b[0m\u001b[1;33m]\u001b[0m\u001b[1;33m\u001b[0m\u001b[0m\n\u001b[0;32m    763\u001b[0m \u001b[1;33m\u001b[0m\u001b[0m\n\u001b[1;32m--> 764\u001b[1;33m         \u001b[0mself\u001b[0m\u001b[1;33m.\u001b[0m\u001b[0m_make_engine\u001b[0m\u001b[1;33m(\u001b[0m\u001b[0mself\u001b[0m\u001b[1;33m.\u001b[0m\u001b[0mengine\u001b[0m\u001b[1;33m)\u001b[0m\u001b[1;33m\u001b[0m\u001b[0m\n\u001b[0m\u001b[0;32m    765\u001b[0m \u001b[1;33m\u001b[0m\u001b[0m\n\u001b[0;32m    766\u001b[0m     \u001b[1;32mdef\u001b[0m \u001b[0mclose\u001b[0m\u001b[1;33m(\u001b[0m\u001b[0mself\u001b[0m\u001b[1;33m)\u001b[0m\u001b[1;33m:\u001b[0m\u001b[1;33m\u001b[0m\u001b[0m\n",
      "\u001b[1;32mc:\\users\\jonas\\code\\first-python-notebook\\lib\\site-packages\\pandas\\io\\parsers.pyc\u001b[0m in \u001b[0;36m_make_engine\u001b[1;34m(self, engine)\u001b[0m\n\u001b[0;32m    983\u001b[0m     \u001b[1;32mdef\u001b[0m \u001b[0m_make_engine\u001b[0m\u001b[1;33m(\u001b[0m\u001b[0mself\u001b[0m\u001b[1;33m,\u001b[0m \u001b[0mengine\u001b[0m\u001b[1;33m=\u001b[0m\u001b[1;34m'c'\u001b[0m\u001b[1;33m)\u001b[0m\u001b[1;33m:\u001b[0m\u001b[1;33m\u001b[0m\u001b[0m\n\u001b[0;32m    984\u001b[0m         \u001b[1;32mif\u001b[0m \u001b[0mengine\u001b[0m \u001b[1;33m==\u001b[0m \u001b[1;34m'c'\u001b[0m\u001b[1;33m:\u001b[0m\u001b[1;33m\u001b[0m\u001b[0m\n\u001b[1;32m--> 985\u001b[1;33m             \u001b[0mself\u001b[0m\u001b[1;33m.\u001b[0m\u001b[0m_engine\u001b[0m \u001b[1;33m=\u001b[0m \u001b[0mCParserWrapper\u001b[0m\u001b[1;33m(\u001b[0m\u001b[0mself\u001b[0m\u001b[1;33m.\u001b[0m\u001b[0mf\u001b[0m\u001b[1;33m,\u001b[0m \u001b[1;33m**\u001b[0m\u001b[0mself\u001b[0m\u001b[1;33m.\u001b[0m\u001b[0moptions\u001b[0m\u001b[1;33m)\u001b[0m\u001b[1;33m\u001b[0m\u001b[0m\n\u001b[0m\u001b[0;32m    986\u001b[0m         \u001b[1;32melse\u001b[0m\u001b[1;33m:\u001b[0m\u001b[1;33m\u001b[0m\u001b[0m\n\u001b[0;32m    987\u001b[0m             \u001b[1;32mif\u001b[0m \u001b[0mengine\u001b[0m \u001b[1;33m==\u001b[0m \u001b[1;34m'python'\u001b[0m\u001b[1;33m:\u001b[0m\u001b[1;33m\u001b[0m\u001b[0m\n",
      "\u001b[1;32mc:\\users\\jonas\\code\\first-python-notebook\\lib\\site-packages\\pandas\\io\\parsers.pyc\u001b[0m in \u001b[0;36m__init__\u001b[1;34m(self, src, **kwds)\u001b[0m\n\u001b[0;32m   1603\u001b[0m         \u001b[0mkwds\u001b[0m\u001b[1;33m[\u001b[0m\u001b[1;34m'allow_leading_cols'\u001b[0m\u001b[1;33m]\u001b[0m \u001b[1;33m=\u001b[0m \u001b[0mself\u001b[0m\u001b[1;33m.\u001b[0m\u001b[0mindex_col\u001b[0m \u001b[1;32mis\u001b[0m \u001b[1;32mnot\u001b[0m \u001b[0mFalse\u001b[0m\u001b[1;33m\u001b[0m\u001b[0m\n\u001b[0;32m   1604\u001b[0m \u001b[1;33m\u001b[0m\u001b[0m\n\u001b[1;32m-> 1605\u001b[1;33m         \u001b[0mself\u001b[0m\u001b[1;33m.\u001b[0m\u001b[0m_reader\u001b[0m \u001b[1;33m=\u001b[0m \u001b[0mparsers\u001b[0m\u001b[1;33m.\u001b[0m\u001b[0mTextReader\u001b[0m\u001b[1;33m(\u001b[0m\u001b[0msrc\u001b[0m\u001b[1;33m,\u001b[0m \u001b[1;33m**\u001b[0m\u001b[0mkwds\u001b[0m\u001b[1;33m)\u001b[0m\u001b[1;33m\u001b[0m\u001b[0m\n\u001b[0m\u001b[0;32m   1606\u001b[0m \u001b[1;33m\u001b[0m\u001b[0m\n\u001b[0;32m   1607\u001b[0m         \u001b[1;31m# XXX\u001b[0m\u001b[1;33m\u001b[0m\u001b[1;33m\u001b[0m\u001b[0m\n",
      "\u001b[1;32mpandas\\_libs\\parsers.pyx\u001b[0m in \u001b[0;36mpandas._libs.parsers.TextReader.__cinit__ (pandas\\_libs\\parsers.c:4209)\u001b[1;34m()\u001b[0m\n",
      "\u001b[1;32mpandas\\_libs\\parsers.pyx\u001b[0m in \u001b[0;36mpandas._libs.parsers.TextReader._setup_parser_source (pandas\\_libs\\parsers.c:8873)\u001b[1;34m()\u001b[0m\n",
      "\u001b[1;31mIOError\u001b[0m: File â€ªC:\\Users\\Jonas\\Code\first-python-notebook\\data\\committees.csv does not exist"
     ]
    }
   ],
   "source": [
    "pd.read_csv(\"‪C:\\Users\\Jonas\\Code\\first-python-notebook\\data\\committees.csv\")"
   ]
  },
  {
   "cell_type": "code",
   "execution_count": 10,
   "metadata": {
    "collapsed": true
   },
   "outputs": [],
   "source": [
    "import pandas as pd"
   ]
  },
  {
   "cell_type": "code",
   "execution_count": 12,
   "metadata": {},
   "outputs": [],
   "source": [
    "props = pd.read_csv('http://www.firstpythonnotebook.org/_static/committees.csv')"
   ]
  },
  {
   "cell_type": "code",
   "execution_count": 16,
   "metadata": {},
   "outputs": [
    {
     "data": {
      "text/html": [
       "<div>\n",
       "<style>\n",
       "    .dataframe thead tr:only-child th {\n",
       "        text-align: right;\n",
       "    }\n",
       "\n",
       "    .dataframe thead th {\n",
       "        text-align: left;\n",
       "    }\n",
       "\n",
       "    .dataframe tbody tr th {\n",
       "        vertical-align: top;\n",
       "    }\n",
       "</style>\n",
       "<table border=\"1\" class=\"dataframe\">\n",
       "  <thead>\n",
       "    <tr style=\"text-align: right;\">\n",
       "      <th></th>\n",
       "      <th>ocd_prop_id</th>\n",
       "      <th>calaccess_prop_id</th>\n",
       "      <th>ccdc_prop_id</th>\n",
       "      <th>prop_name</th>\n",
       "      <th>ccdc_committee_id</th>\n",
       "      <th>calaccess_committee_id</th>\n",
       "      <th>committee_name</th>\n",
       "      <th>committee_position</th>\n",
       "    </tr>\n",
       "  </thead>\n",
       "  <tbody>\n",
       "    <tr>\n",
       "      <th>0</th>\n",
       "      <td>ocd-contest/b51dc64d-3562-4913-a190-69f5088c22a6</td>\n",
       "      <td>1376258</td>\n",
       "      <td>70</td>\n",
       "      <td>PROPOSITION 051 - SCHOOL BONDS. FUNDING FOR K-...</td>\n",
       "      <td>382</td>\n",
       "      <td>1374469</td>\n",
       "      <td>YES ON PROPOSITION 51 - CALIFORNIANS FOR QUALI...</td>\n",
       "      <td>SUPPORT</td>\n",
       "    </tr>\n",
       "    <tr>\n",
       "      <th>1</th>\n",
       "      <td>ocd-contest/b51dc64d-3562-4913-a190-69f5088c22a6</td>\n",
       "      <td>1376258</td>\n",
       "      <td>70</td>\n",
       "      <td>PROPOSITION 051 - SCHOOL BONDS. FUNDING FOR K-...</td>\n",
       "      <td>383</td>\n",
       "      <td>1220380</td>\n",
       "      <td>COMMUNITY COLLEGE FACILITY COALITION ISSUES CO...</td>\n",
       "      <td>SUPPORT</td>\n",
       "    </tr>\n",
       "    <tr>\n",
       "      <th>2</th>\n",
       "      <td>ocd-contest/b51dc64d-3562-4913-a190-69f5088c22a6</td>\n",
       "      <td>1376258</td>\n",
       "      <td>70</td>\n",
       "      <td>PROPOSITION 051 - SCHOOL BONDS. FUNDING FOR K-...</td>\n",
       "      <td>384</td>\n",
       "      <td>1282321</td>\n",
       "      <td>TORLAKSON'S INVEST IN CALIFORNIA A BALLOT MEAS...</td>\n",
       "      <td>SUPPORT</td>\n",
       "    </tr>\n",
       "    <tr>\n",
       "      <th>3</th>\n",
       "      <td>ocd-contest/b51dc64d-3562-4913-a190-69f5088c22a6</td>\n",
       "      <td>1376258</td>\n",
       "      <td>70</td>\n",
       "      <td>PROPOSITION 051 - SCHOOL BONDS. FUNDING FOR K-...</td>\n",
       "      <td>385</td>\n",
       "      <td>1382843</td>\n",
       "      <td>CALIFORNIA TAXPAYERS AND EDUCATORS OPPOSED TO ...</td>\n",
       "      <td>OPPOSE</td>\n",
       "    </tr>\n",
       "    <tr>\n",
       "      <th>4</th>\n",
       "      <td>ocd-contest/85990193-9d6f-4600-b8e7-bf1317841d82</td>\n",
       "      <td>1362198</td>\n",
       "      <td>71</td>\n",
       "      <td>PROPOSITION 052 - STATE FEES ON HOSPITALS. FED...</td>\n",
       "      <td>386</td>\n",
       "      <td>1362973</td>\n",
       "      <td>YES ON PROPOSITION 52 - A COALITION OF CALIFOR...</td>\n",
       "      <td>SUPPORT</td>\n",
       "    </tr>\n",
       "    <tr>\n",
       "      <th>5</th>\n",
       "      <td>ocd-contest/85990193-9d6f-4600-b8e7-bf1317841d82</td>\n",
       "      <td>1362198</td>\n",
       "      <td>71</td>\n",
       "      <td>PROPOSITION 052 - STATE FEES ON HOSPITALS. FED...</td>\n",
       "      <td>387</td>\n",
       "      <td>1381488</td>\n",
       "      <td>CALIFORNIANS FOR HOSPITAL ACCOUNTABILITY AND Q...</td>\n",
       "      <td>OPPOSE</td>\n",
       "    </tr>\n",
       "    <tr>\n",
       "      <th>6</th>\n",
       "      <td>ocd-contest/85990193-9d6f-4600-b8e7-bf1317841d82</td>\n",
       "      <td>1362198</td>\n",
       "      <td>71</td>\n",
       "      <td>PROPOSITION 052 - STATE FEES ON HOSPITALS. FED...</td>\n",
       "      <td>388</td>\n",
       "      <td>1373047</td>\n",
       "      <td>SERVICE EMPLOYEES INTERNATIONAL UNION, UNITED ...</td>\n",
       "      <td>OPPOSE</td>\n",
       "    </tr>\n",
       "  </tbody>\n",
       "</table>\n",
       "</div>"
      ],
      "text/plain": [
       "                                        ocd_prop_id  calaccess_prop_id  \\\n",
       "0  ocd-contest/b51dc64d-3562-4913-a190-69f5088c22a6            1376258   \n",
       "1  ocd-contest/b51dc64d-3562-4913-a190-69f5088c22a6            1376258   \n",
       "2  ocd-contest/b51dc64d-3562-4913-a190-69f5088c22a6            1376258   \n",
       "3  ocd-contest/b51dc64d-3562-4913-a190-69f5088c22a6            1376258   \n",
       "4  ocd-contest/85990193-9d6f-4600-b8e7-bf1317841d82            1362198   \n",
       "5  ocd-contest/85990193-9d6f-4600-b8e7-bf1317841d82            1362198   \n",
       "6  ocd-contest/85990193-9d6f-4600-b8e7-bf1317841d82            1362198   \n",
       "\n",
       "   ccdc_prop_id                                          prop_name  \\\n",
       "0            70  PROPOSITION 051 - SCHOOL BONDS. FUNDING FOR K-...   \n",
       "1            70  PROPOSITION 051 - SCHOOL BONDS. FUNDING FOR K-...   \n",
       "2            70  PROPOSITION 051 - SCHOOL BONDS. FUNDING FOR K-...   \n",
       "3            70  PROPOSITION 051 - SCHOOL BONDS. FUNDING FOR K-...   \n",
       "4            71  PROPOSITION 052 - STATE FEES ON HOSPITALS. FED...   \n",
       "5            71  PROPOSITION 052 - STATE FEES ON HOSPITALS. FED...   \n",
       "6            71  PROPOSITION 052 - STATE FEES ON HOSPITALS. FED...   \n",
       "\n",
       "   ccdc_committee_id  calaccess_committee_id  \\\n",
       "0                382                 1374469   \n",
       "1                383                 1220380   \n",
       "2                384                 1282321   \n",
       "3                385                 1382843   \n",
       "4                386                 1362973   \n",
       "5                387                 1381488   \n",
       "6                388                 1373047   \n",
       "\n",
       "                                      committee_name committee_position  \n",
       "0  YES ON PROPOSITION 51 - CALIFORNIANS FOR QUALI...            SUPPORT  \n",
       "1  COMMUNITY COLLEGE FACILITY COALITION ISSUES CO...            SUPPORT  \n",
       "2  TORLAKSON'S INVEST IN CALIFORNIA A BALLOT MEAS...            SUPPORT  \n",
       "3  CALIFORNIA TAXPAYERS AND EDUCATORS OPPOSED TO ...             OPPOSE  \n",
       "4  YES ON PROPOSITION 52 - A COALITION OF CALIFOR...            SUPPORT  \n",
       "5  CALIFORNIANS FOR HOSPITAL ACCOUNTABILITY AND Q...             OPPOSE  \n",
       "6  SERVICE EMPLOYEES INTERNATIONAL UNION, UNITED ...             OPPOSE  "
      ]
     },
     "execution_count": 16,
     "metadata": {},
     "output_type": "execute_result"
    }
   ],
   "source": [
    "props.head()"
   ]
  },
  {
   "cell_type": "code",
   "execution_count": 17,
   "metadata": {},
   "outputs": [
    {
     "name": "stdout",
     "output_type": "stream",
     "text": [
      "<class 'pandas.core.frame.DataFrame'>\n",
      "RangeIndex: 102 entries, 0 to 101\n",
      "Data columns (total 8 columns):\n",
      "ocd_prop_id               102 non-null object\n",
      "calaccess_prop_id         102 non-null int64\n",
      "ccdc_prop_id              102 non-null int64\n",
      "prop_name                 102 non-null object\n",
      "ccdc_committee_id         102 non-null int64\n",
      "calaccess_committee_id    102 non-null int64\n",
      "committee_name            102 non-null object\n",
      "committee_position        102 non-null object\n",
      "dtypes: int64(4), object(4)\n",
      "memory usage: 4.8+ KB\n"
     ]
    }
   ],
   "source": [
    "props.info()"
   ]
  },
  {
   "cell_type": "code",
   "execution_count": 18,
   "metadata": {},
   "outputs": [
    {
     "ename": "SyntaxError",
     "evalue": "invalid syntax (<ipython-input-18-6c3639cc962d>, line 1)",
     "output_type": "error",
     "traceback": [
      "\u001b[1;36m  File \u001b[1;32m\"<ipython-input-18-6c3639cc962d>\"\u001b[1;36m, line \u001b[1;32m1\u001b[0m\n\u001b[1;33m    imports pandas as pd\u001b[0m\n\u001b[1;37m                 ^\u001b[0m\n\u001b[1;31mSyntaxError\u001b[0m\u001b[1;31m:\u001b[0m invalid syntax\n"
     ]
    }
   ],
   "source": [
    "imports pandas as pd"
   ]
  },
  {
   "cell_type": "code",
   "execution_count": 19,
   "metadata": {
    "collapsed": true
   },
   "outputs": [],
   "source": [
    "import pandas as pd"
   ]
  },
  {
   "cell_type": "code",
   "execution_count": null,
   "metadata": {
    "collapsed": true
   },
   "outputs": [],
   "source": [
    "pd.read_"
   ]
  },
  {
   "cell_type": "code",
   "execution_count": 20,
   "metadata": {
    "collapsed": true
   },
   "outputs": [],
   "source": [
    "contribs = pd.read_csv('http://www.firstpythonnotebook.org/_static/contributions.csv')"
   ]
  },
  {
   "cell_type": "code",
   "execution_count": 21,
   "metadata": {},
   "outputs": [
    {
     "data": {
      "text/html": [
       "<div>\n",
       "<style>\n",
       "    .dataframe thead tr:only-child th {\n",
       "        text-align: right;\n",
       "    }\n",
       "\n",
       "    .dataframe thead th {\n",
       "        text-align: left;\n",
       "    }\n",
       "\n",
       "    .dataframe tbody tr th {\n",
       "        vertical-align: top;\n",
       "    }\n",
       "</style>\n",
       "<table border=\"1\" class=\"dataframe\">\n",
       "  <thead>\n",
       "    <tr style=\"text-align: right;\">\n",
       "      <th></th>\n",
       "      <th>calaccess_committee_id</th>\n",
       "      <th>committee_name</th>\n",
       "      <th>calaccess_filing_id</th>\n",
       "      <th>date_received</th>\n",
       "      <th>contributor_lastname</th>\n",
       "      <th>contributor_firstname</th>\n",
       "      <th>contributor_city</th>\n",
       "      <th>contributor_state</th>\n",
       "      <th>contributor_zip</th>\n",
       "      <th>contributor_employer</th>\n",
       "      <th>contributor_occupation</th>\n",
       "      <th>contributor_is_self_employed</th>\n",
       "      <th>amount</th>\n",
       "    </tr>\n",
       "  </thead>\n",
       "  <tbody>\n",
       "    <tr>\n",
       "      <th>0</th>\n",
       "      <td>1386560</td>\n",
       "      <td>ADULT USE CAMPAIGN FOR PROPOSITION 64; THE</td>\n",
       "      <td>2083796</td>\n",
       "      <td>2016-09-18</td>\n",
       "      <td>BERGMAN</td>\n",
       "      <td>GRETCHEN</td>\n",
       "      <td>SPRING VALLEY</td>\n",
       "      <td>CA</td>\n",
       "      <td>91978</td>\n",
       "      <td>A NEW PATH</td>\n",
       "      <td>EXECUTIVE DIRECTOR</td>\n",
       "      <td>False</td>\n",
       "      <td>84.0</td>\n",
       "    </tr>\n",
       "    <tr>\n",
       "      <th>1</th>\n",
       "      <td>1386560</td>\n",
       "      <td>ADULT USE CAMPAIGN FOR PROPOSITION 64; THE</td>\n",
       "      <td>2083796</td>\n",
       "      <td>2016-09-18</td>\n",
       "      <td>KAHLE</td>\n",
       "      <td>MYRNA</td>\n",
       "      <td>SAN DIEGO</td>\n",
       "      <td>CA</td>\n",
       "      <td>92109</td>\n",
       "      <td>NATIONAL SCHOOL DISTRICT</td>\n",
       "      <td>TEACHER</td>\n",
       "      <td>False</td>\n",
       "      <td>35.0</td>\n",
       "    </tr>\n",
       "    <tr>\n",
       "      <th>2</th>\n",
       "      <td>1386560</td>\n",
       "      <td>ADULT USE CAMPAIGN FOR PROPOSITION 64; THE</td>\n",
       "      <td>2083796</td>\n",
       "      <td>2016-07-15</td>\n",
       "      <td>MCDEVITT</td>\n",
       "      <td>LEO</td>\n",
       "      <td>ESCONDIDO</td>\n",
       "      <td>CA</td>\n",
       "      <td>92025</td>\n",
       "      <td>LIFE IONIZERS</td>\n",
       "      <td>SEO/CONTENT MANAGER</td>\n",
       "      <td>False</td>\n",
       "      <td>198.0</td>\n",
       "    </tr>\n",
       "    <tr>\n",
       "      <th>3</th>\n",
       "      <td>1386560</td>\n",
       "      <td>ADULT USE CAMPAIGN FOR PROPOSITION 64; THE</td>\n",
       "      <td>2083796</td>\n",
       "      <td>2016-08-10</td>\n",
       "      <td>WARREN-SAMARIPA</td>\n",
       "      <td>STEPHANIE</td>\n",
       "      <td>SAN DIEGO</td>\n",
       "      <td>CA</td>\n",
       "      <td>92116</td>\n",
       "      <td>STEPHANIE WARREN SAMARIPA</td>\n",
       "      <td>ENTREPRENEUR</td>\n",
       "      <td>False</td>\n",
       "      <td>-50.0</td>\n",
       "    </tr>\n",
       "    <tr>\n",
       "      <th>4</th>\n",
       "      <td>1386560</td>\n",
       "      <td>ADULT USE CAMPAIGN FOR PROPOSITION 64; THE</td>\n",
       "      <td>2083796</td>\n",
       "      <td>2016-07-26</td>\n",
       "      <td>WARREN-SAMARIPA</td>\n",
       "      <td>STEPHANIE</td>\n",
       "      <td>SAN DIEGO</td>\n",
       "      <td>CA</td>\n",
       "      <td>92116</td>\n",
       "      <td>STEPHANIE WARREN SAMARIPA</td>\n",
       "      <td>ENTREPRENEUR</td>\n",
       "      <td>True</td>\n",
       "      <td>50.0</td>\n",
       "    </tr>\n",
       "  </tbody>\n",
       "</table>\n",
       "</div>"
      ],
      "text/plain": [
       "   calaccess_committee_id                              committee_name  \\\n",
       "0                 1386560  ADULT USE CAMPAIGN FOR PROPOSITION 64; THE   \n",
       "1                 1386560  ADULT USE CAMPAIGN FOR PROPOSITION 64; THE   \n",
       "2                 1386560  ADULT USE CAMPAIGN FOR PROPOSITION 64; THE   \n",
       "3                 1386560  ADULT USE CAMPAIGN FOR PROPOSITION 64; THE   \n",
       "4                 1386560  ADULT USE CAMPAIGN FOR PROPOSITION 64; THE   \n",
       "\n",
       "   calaccess_filing_id date_received contributor_lastname  \\\n",
       "0              2083796    2016-09-18              BERGMAN   \n",
       "1              2083796    2016-09-18                KAHLE   \n",
       "2              2083796    2016-07-15             MCDEVITT   \n",
       "3              2083796    2016-08-10      WARREN-SAMARIPA   \n",
       "4              2083796    2016-07-26      WARREN-SAMARIPA   \n",
       "\n",
       "  contributor_firstname contributor_city contributor_state contributor_zip  \\\n",
       "0              GRETCHEN    SPRING VALLEY                CA           91978   \n",
       "1                 MYRNA        SAN DIEGO                CA           92109   \n",
       "2                   LEO        ESCONDIDO                CA           92025   \n",
       "3             STEPHANIE        SAN DIEGO                CA           92116   \n",
       "4             STEPHANIE        SAN DIEGO                CA           92116   \n",
       "\n",
       "        contributor_employer contributor_occupation  \\\n",
       "0                 A NEW PATH     EXECUTIVE DIRECTOR   \n",
       "1   NATIONAL SCHOOL DISTRICT                TEACHER   \n",
       "2              LIFE IONIZERS    SEO/CONTENT MANAGER   \n",
       "3  STEPHANIE WARREN SAMARIPA           ENTREPRENEUR   \n",
       "4  STEPHANIE WARREN SAMARIPA           ENTREPRENEUR   \n",
       "\n",
       "   contributor_is_self_employed  amount  \n",
       "0                         False    84.0  \n",
       "1                         False    35.0  \n",
       "2                         False   198.0  \n",
       "3                         False   -50.0  \n",
       "4                          True    50.0  "
      ]
     },
     "execution_count": 21,
     "metadata": {},
     "output_type": "execute_result"
    }
   ],
   "source": [
    "contribs.head()"
   ]
  },
  {
   "cell_type": "code",
   "execution_count": 22,
   "metadata": {},
   "outputs": [
    {
     "name": "stdout",
     "output_type": "stream",
     "text": [
      "<class 'pandas.core.frame.DataFrame'>\n",
      "RangeIndex: 56379 entries, 0 to 56378\n",
      "Data columns (total 13 columns):\n",
      "calaccess_committee_id          56379 non-null int64\n",
      "committee_name                  56379 non-null object\n",
      "calaccess_filing_id             56379 non-null int64\n",
      "date_received                   56379 non-null object\n",
      "contributor_lastname            56375 non-null object\n",
      "contributor_firstname           53411 non-null object\n",
      "contributor_city                56369 non-null object\n",
      "contributor_state               56363 non-null object\n",
      "contributor_zip                 56366 non-null object\n",
      "contributor_employer            48572 non-null object\n",
      "contributor_occupation          53273 non-null object\n",
      "contributor_is_self_employed    56379 non-null bool\n",
      "amount                          56379 non-null float64\n",
      "dtypes: bool(1), float64(1), int64(2), object(9)\n",
      "memory usage: 3.3+ MB\n"
     ]
    }
   ],
   "source": [
    "contribs.info()"
   ]
  },
  {
   "cell_type": "code",
   "execution_count": 23,
   "metadata": {},
   "outputs": [
    {
     "data": {
      "text/html": [
       "<div>\n",
       "<style>\n",
       "    .dataframe thead tr:only-child th {\n",
       "        text-align: right;\n",
       "    }\n",
       "\n",
       "    .dataframe thead th {\n",
       "        text-align: left;\n",
       "    }\n",
       "\n",
       "    .dataframe tbody tr th {\n",
       "        vertical-align: top;\n",
       "    }\n",
       "</style>\n",
       "<table border=\"1\" class=\"dataframe\">\n",
       "  <thead>\n",
       "    <tr style=\"text-align: right;\">\n",
       "      <th></th>\n",
       "      <th>calaccess_committee_id</th>\n",
       "      <th>committee_name</th>\n",
       "      <th>calaccess_filing_id</th>\n",
       "      <th>date_received</th>\n",
       "      <th>contributor_lastname</th>\n",
       "      <th>contributor_firstname</th>\n",
       "      <th>contributor_city</th>\n",
       "      <th>contributor_state</th>\n",
       "      <th>contributor_zip</th>\n",
       "      <th>contributor_employer</th>\n",
       "      <th>contributor_occupation</th>\n",
       "      <th>contributor_is_self_employed</th>\n",
       "      <th>amount</th>\n",
       "    </tr>\n",
       "  </thead>\n",
       "  <tbody>\n",
       "    <tr>\n",
       "      <th>0</th>\n",
       "      <td>1386560</td>\n",
       "      <td>ADULT USE CAMPAIGN FOR PROPOSITION 64; THE</td>\n",
       "      <td>2083796</td>\n",
       "      <td>2016-09-18</td>\n",
       "      <td>BERGMAN</td>\n",
       "      <td>GRETCHEN</td>\n",
       "      <td>SPRING VALLEY</td>\n",
       "      <td>CA</td>\n",
       "      <td>91978</td>\n",
       "      <td>A NEW PATH</td>\n",
       "      <td>EXECUTIVE DIRECTOR</td>\n",
       "      <td>False</td>\n",
       "      <td>84.0</td>\n",
       "    </tr>\n",
       "    <tr>\n",
       "      <th>1</th>\n",
       "      <td>1386560</td>\n",
       "      <td>ADULT USE CAMPAIGN FOR PROPOSITION 64; THE</td>\n",
       "      <td>2083796</td>\n",
       "      <td>2016-09-18</td>\n",
       "      <td>KAHLE</td>\n",
       "      <td>MYRNA</td>\n",
       "      <td>SAN DIEGO</td>\n",
       "      <td>CA</td>\n",
       "      <td>92109</td>\n",
       "      <td>NATIONAL SCHOOL DISTRICT</td>\n",
       "      <td>TEACHER</td>\n",
       "      <td>False</td>\n",
       "      <td>35.0</td>\n",
       "    </tr>\n",
       "    <tr>\n",
       "      <th>2</th>\n",
       "      <td>1386560</td>\n",
       "      <td>ADULT USE CAMPAIGN FOR PROPOSITION 64; THE</td>\n",
       "      <td>2083796</td>\n",
       "      <td>2016-07-15</td>\n",
       "      <td>MCDEVITT</td>\n",
       "      <td>LEO</td>\n",
       "      <td>ESCONDIDO</td>\n",
       "      <td>CA</td>\n",
       "      <td>92025</td>\n",
       "      <td>LIFE IONIZERS</td>\n",
       "      <td>SEO/CONTENT MANAGER</td>\n",
       "      <td>False</td>\n",
       "      <td>198.0</td>\n",
       "    </tr>\n",
       "    <tr>\n",
       "      <th>3</th>\n",
       "      <td>1386560</td>\n",
       "      <td>ADULT USE CAMPAIGN FOR PROPOSITION 64; THE</td>\n",
       "      <td>2083796</td>\n",
       "      <td>2016-08-10</td>\n",
       "      <td>WARREN-SAMARIPA</td>\n",
       "      <td>STEPHANIE</td>\n",
       "      <td>SAN DIEGO</td>\n",
       "      <td>CA</td>\n",
       "      <td>92116</td>\n",
       "      <td>STEPHANIE WARREN SAMARIPA</td>\n",
       "      <td>ENTREPRENEUR</td>\n",
       "      <td>False</td>\n",
       "      <td>-50.0</td>\n",
       "    </tr>\n",
       "    <tr>\n",
       "      <th>4</th>\n",
       "      <td>1386560</td>\n",
       "      <td>ADULT USE CAMPAIGN FOR PROPOSITION 64; THE</td>\n",
       "      <td>2083796</td>\n",
       "      <td>2016-07-26</td>\n",
       "      <td>WARREN-SAMARIPA</td>\n",
       "      <td>STEPHANIE</td>\n",
       "      <td>SAN DIEGO</td>\n",
       "      <td>CA</td>\n",
       "      <td>92116</td>\n",
       "      <td>STEPHANIE WARREN SAMARIPA</td>\n",
       "      <td>ENTREPRENEUR</td>\n",
       "      <td>True</td>\n",
       "      <td>50.0</td>\n",
       "    </tr>\n",
       "  </tbody>\n",
       "</table>\n",
       "</div>"
      ],
      "text/plain": [
       "   calaccess_committee_id                              committee_name  \\\n",
       "0                 1386560  ADULT USE CAMPAIGN FOR PROPOSITION 64; THE   \n",
       "1                 1386560  ADULT USE CAMPAIGN FOR PROPOSITION 64; THE   \n",
       "2                 1386560  ADULT USE CAMPAIGN FOR PROPOSITION 64; THE   \n",
       "3                 1386560  ADULT USE CAMPAIGN FOR PROPOSITION 64; THE   \n",
       "4                 1386560  ADULT USE CAMPAIGN FOR PROPOSITION 64; THE   \n",
       "\n",
       "   calaccess_filing_id date_received contributor_lastname  \\\n",
       "0              2083796    2016-09-18              BERGMAN   \n",
       "1              2083796    2016-09-18                KAHLE   \n",
       "2              2083796    2016-07-15             MCDEVITT   \n",
       "3              2083796    2016-08-10      WARREN-SAMARIPA   \n",
       "4              2083796    2016-07-26      WARREN-SAMARIPA   \n",
       "\n",
       "  contributor_firstname contributor_city contributor_state contributor_zip  \\\n",
       "0              GRETCHEN    SPRING VALLEY                CA           91978   \n",
       "1                 MYRNA        SAN DIEGO                CA           92109   \n",
       "2                   LEO        ESCONDIDO                CA           92025   \n",
       "3             STEPHANIE        SAN DIEGO                CA           92116   \n",
       "4             STEPHANIE        SAN DIEGO                CA           92116   \n",
       "\n",
       "        contributor_employer contributor_occupation  \\\n",
       "0                 A NEW PATH     EXECUTIVE DIRECTOR   \n",
       "1   NATIONAL SCHOOL DISTRICT                TEACHER   \n",
       "2              LIFE IONIZERS    SEO/CONTENT MANAGER   \n",
       "3  STEPHANIE WARREN SAMARIPA           ENTREPRENEUR   \n",
       "4  STEPHANIE WARREN SAMARIPA           ENTREPRENEUR   \n",
       "\n",
       "   contributor_is_self_employed  amount  \n",
       "0                         False    84.0  \n",
       "1                         False    35.0  \n",
       "2                         False   198.0  \n",
       "3                         False   -50.0  \n",
       "4                          True    50.0  "
      ]
     },
     "execution_count": 23,
     "metadata": {},
     "output_type": "execute_result"
    }
   ],
   "source": [
    "contribs.head()"
   ]
  },
  {
   "cell_type": "code",
   "execution_count": 24,
   "metadata": {},
   "outputs": [
    {
     "data": {
      "text/html": [
       "<div>\n",
       "<style>\n",
       "    .dataframe thead tr:only-child th {\n",
       "        text-align: right;\n",
       "    }\n",
       "\n",
       "    .dataframe thead th {\n",
       "        text-align: left;\n",
       "    }\n",
       "\n",
       "    .dataframe tbody tr th {\n",
       "        vertical-align: top;\n",
       "    }\n",
       "</style>\n",
       "<table border=\"1\" class=\"dataframe\">\n",
       "  <thead>\n",
       "    <tr style=\"text-align: right;\">\n",
       "      <th></th>\n",
       "      <th>calaccess_committee_id</th>\n",
       "      <th>committee_name</th>\n",
       "      <th>calaccess_filing_id</th>\n",
       "      <th>date_received</th>\n",
       "      <th>contributor_lastname</th>\n",
       "      <th>contributor_firstname</th>\n",
       "      <th>contributor_city</th>\n",
       "      <th>contributor_state</th>\n",
       "      <th>contributor_zip</th>\n",
       "      <th>contributor_employer</th>\n",
       "      <th>contributor_occupation</th>\n",
       "      <th>contributor_is_self_employed</th>\n",
       "      <th>amount</th>\n",
       "    </tr>\n",
       "  </thead>\n",
       "  <tbody>\n",
       "    <tr>\n",
       "      <th>0</th>\n",
       "      <td>1386560</td>\n",
       "      <td>ADULT USE CAMPAIGN FOR PROPOSITION 64; THE</td>\n",
       "      <td>2083796</td>\n",
       "      <td>2016-09-18</td>\n",
       "      <td>BERGMAN</td>\n",
       "      <td>GRETCHEN</td>\n",
       "      <td>SPRING VALLEY</td>\n",
       "      <td>CA</td>\n",
       "      <td>91978</td>\n",
       "      <td>A NEW PATH</td>\n",
       "      <td>EXECUTIVE DIRECTOR</td>\n",
       "      <td>False</td>\n",
       "      <td>84.0</td>\n",
       "    </tr>\n",
       "    <tr>\n",
       "      <th>1</th>\n",
       "      <td>1386560</td>\n",
       "      <td>ADULT USE CAMPAIGN FOR PROPOSITION 64; THE</td>\n",
       "      <td>2083796</td>\n",
       "      <td>2016-09-18</td>\n",
       "      <td>KAHLE</td>\n",
       "      <td>MYRNA</td>\n",
       "      <td>SAN DIEGO</td>\n",
       "      <td>CA</td>\n",
       "      <td>92109</td>\n",
       "      <td>NATIONAL SCHOOL DISTRICT</td>\n",
       "      <td>TEACHER</td>\n",
       "      <td>False</td>\n",
       "      <td>35.0</td>\n",
       "    </tr>\n",
       "    <tr>\n",
       "      <th>2</th>\n",
       "      <td>1386560</td>\n",
       "      <td>ADULT USE CAMPAIGN FOR PROPOSITION 64; THE</td>\n",
       "      <td>2083796</td>\n",
       "      <td>2016-07-15</td>\n",
       "      <td>MCDEVITT</td>\n",
       "      <td>LEO</td>\n",
       "      <td>ESCONDIDO</td>\n",
       "      <td>CA</td>\n",
       "      <td>92025</td>\n",
       "      <td>LIFE IONIZERS</td>\n",
       "      <td>SEO/CONTENT MANAGER</td>\n",
       "      <td>False</td>\n",
       "      <td>198.0</td>\n",
       "    </tr>\n",
       "    <tr>\n",
       "      <th>3</th>\n",
       "      <td>1386560</td>\n",
       "      <td>ADULT USE CAMPAIGN FOR PROPOSITION 64; THE</td>\n",
       "      <td>2083796</td>\n",
       "      <td>2016-08-10</td>\n",
       "      <td>WARREN-SAMARIPA</td>\n",
       "      <td>STEPHANIE</td>\n",
       "      <td>SAN DIEGO</td>\n",
       "      <td>CA</td>\n",
       "      <td>92116</td>\n",
       "      <td>STEPHANIE WARREN SAMARIPA</td>\n",
       "      <td>ENTREPRENEUR</td>\n",
       "      <td>False</td>\n",
       "      <td>-50.0</td>\n",
       "    </tr>\n",
       "    <tr>\n",
       "      <th>4</th>\n",
       "      <td>1386560</td>\n",
       "      <td>ADULT USE CAMPAIGN FOR PROPOSITION 64; THE</td>\n",
       "      <td>2083796</td>\n",
       "      <td>2016-07-26</td>\n",
       "      <td>WARREN-SAMARIPA</td>\n",
       "      <td>STEPHANIE</td>\n",
       "      <td>SAN DIEGO</td>\n",
       "      <td>CA</td>\n",
       "      <td>92116</td>\n",
       "      <td>STEPHANIE WARREN SAMARIPA</td>\n",
       "      <td>ENTREPRENEUR</td>\n",
       "      <td>True</td>\n",
       "      <td>50.0</td>\n",
       "    </tr>\n",
       "    <tr>\n",
       "      <th>5</th>\n",
       "      <td>1386560</td>\n",
       "      <td>ADULT USE CAMPAIGN FOR PROPOSITION 64; THE</td>\n",
       "      <td>2083796</td>\n",
       "      <td>2016-07-26</td>\n",
       "      <td>VENTURO</td>\n",
       "      <td>JOHN</td>\n",
       "      <td>SAN DIEGO</td>\n",
       "      <td>CA</td>\n",
       "      <td>92110</td>\n",
       "      <td>SMI</td>\n",
       "      <td>ENGINEER</td>\n",
       "      <td>False</td>\n",
       "      <td>198.0</td>\n",
       "    </tr>\n",
       "    <tr>\n",
       "      <th>6</th>\n",
       "      <td>1386560</td>\n",
       "      <td>ADULT USE CAMPAIGN FOR PROPOSITION 64; THE</td>\n",
       "      <td>2083796</td>\n",
       "      <td>2016-07-29</td>\n",
       "      <td>HANNON</td>\n",
       "      <td>SUSAN</td>\n",
       "      <td>CARLSBAD</td>\n",
       "      <td>CA</td>\n",
       "      <td>92008</td>\n",
       "      <td>SUSAN HANNON</td>\n",
       "      <td>SALES</td>\n",
       "      <td>True</td>\n",
       "      <td>100.0</td>\n",
       "    </tr>\n",
       "    <tr>\n",
       "      <th>7</th>\n",
       "      <td>1386560</td>\n",
       "      <td>ADULT USE CAMPAIGN FOR PROPOSITION 64; THE</td>\n",
       "      <td>2083796</td>\n",
       "      <td>2016-08-06</td>\n",
       "      <td>SCHERER</td>\n",
       "      <td>WAYNE</td>\n",
       "      <td>SAN DIEGO</td>\n",
       "      <td>CA</td>\n",
       "      <td>92117</td>\n",
       "      <td>WAYNE SCHERER</td>\n",
       "      <td>OWNER</td>\n",
       "      <td>True</td>\n",
       "      <td>30.0</td>\n",
       "    </tr>\n",
       "  </tbody>\n",
       "</table>\n",
       "</div>"
      ],
      "text/plain": [
       "   calaccess_committee_id                              committee_name  \\\n",
       "0                 1386560  ADULT USE CAMPAIGN FOR PROPOSITION 64; THE   \n",
       "1                 1386560  ADULT USE CAMPAIGN FOR PROPOSITION 64; THE   \n",
       "2                 1386560  ADULT USE CAMPAIGN FOR PROPOSITION 64; THE   \n",
       "3                 1386560  ADULT USE CAMPAIGN FOR PROPOSITION 64; THE   \n",
       "4                 1386560  ADULT USE CAMPAIGN FOR PROPOSITION 64; THE   \n",
       "5                 1386560  ADULT USE CAMPAIGN FOR PROPOSITION 64; THE   \n",
       "6                 1386560  ADULT USE CAMPAIGN FOR PROPOSITION 64; THE   \n",
       "7                 1386560  ADULT USE CAMPAIGN FOR PROPOSITION 64; THE   \n",
       "\n",
       "   calaccess_filing_id date_received contributor_lastname  \\\n",
       "0              2083796    2016-09-18              BERGMAN   \n",
       "1              2083796    2016-09-18                KAHLE   \n",
       "2              2083796    2016-07-15             MCDEVITT   \n",
       "3              2083796    2016-08-10      WARREN-SAMARIPA   \n",
       "4              2083796    2016-07-26      WARREN-SAMARIPA   \n",
       "5              2083796    2016-07-26              VENTURO   \n",
       "6              2083796    2016-07-29               HANNON   \n",
       "7              2083796    2016-08-06              SCHERER   \n",
       "\n",
       "  contributor_firstname contributor_city contributor_state contributor_zip  \\\n",
       "0              GRETCHEN    SPRING VALLEY                CA           91978   \n",
       "1                 MYRNA        SAN DIEGO                CA           92109   \n",
       "2                   LEO        ESCONDIDO                CA           92025   \n",
       "3             STEPHANIE        SAN DIEGO                CA           92116   \n",
       "4             STEPHANIE        SAN DIEGO                CA           92116   \n",
       "5                  JOHN        SAN DIEGO                CA           92110   \n",
       "6                 SUSAN         CARLSBAD                CA           92008   \n",
       "7                 WAYNE        SAN DIEGO                CA           92117   \n",
       "\n",
       "        contributor_employer contributor_occupation  \\\n",
       "0                 A NEW PATH     EXECUTIVE DIRECTOR   \n",
       "1   NATIONAL SCHOOL DISTRICT                TEACHER   \n",
       "2              LIFE IONIZERS    SEO/CONTENT MANAGER   \n",
       "3  STEPHANIE WARREN SAMARIPA           ENTREPRENEUR   \n",
       "4  STEPHANIE WARREN SAMARIPA           ENTREPRENEUR   \n",
       "5                        SMI               ENGINEER   \n",
       "6               SUSAN HANNON                  SALES   \n",
       "7              WAYNE SCHERER                  OWNER   \n",
       "\n",
       "   contributor_is_self_employed  amount  \n",
       "0                         False    84.0  \n",
       "1                         False    35.0  \n",
       "2                         False   198.0  \n",
       "3                         False   -50.0  \n",
       "4                          True    50.0  \n",
       "5                         False   198.0  \n",
       "6                          True   100.0  \n",
       "7                          True    30.0  "
      ]
     },
     "execution_count": 24,
     "metadata": {},
     "output_type": "execute_result"
    }
   ],
   "source": [
    "contribs.head(8)"
   ]
  },
  {
   "cell_type": "code",
   "execution_count": 25,
   "metadata": {},
   "outputs": [
    {
     "name": "stdout",
     "output_type": "stream",
     "text": [
      "<class 'pandas.core.frame.DataFrame'>\n",
      "RangeIndex: 56379 entries, 0 to 56378\n",
      "Data columns (total 13 columns):\n",
      "calaccess_committee_id          56379 non-null int64\n",
      "committee_name                  56379 non-null object\n",
      "calaccess_filing_id             56379 non-null int64\n",
      "date_received                   56379 non-null object\n",
      "contributor_lastname            56375 non-null object\n",
      "contributor_firstname           53411 non-null object\n",
      "contributor_city                56369 non-null object\n",
      "contributor_state               56363 non-null object\n",
      "contributor_zip                 56366 non-null object\n",
      "contributor_employer            48572 non-null object\n",
      "contributor_occupation          53273 non-null object\n",
      "contributor_is_self_employed    56379 non-null bool\n",
      "amount                          56379 non-null float64\n",
      "dtypes: bool(1), float64(1), int64(2), object(9)\n",
      "memory usage: 3.3+ MB\n"
     ]
    }
   ],
   "source": [
    "contribs.info()"
   ]
  },
  {
   "cell_type": "code",
   "execution_count": 30,
   "metadata": {},
   "outputs": [
    {
     "data": {
      "text/html": [
       "<div>\n",
       "<style>\n",
       "    .dataframe thead tr:only-child th {\n",
       "        text-align: right;\n",
       "    }\n",
       "\n",
       "    .dataframe thead th {\n",
       "        text-align: left;\n",
       "    }\n",
       "\n",
       "    .dataframe tbody tr th {\n",
       "        vertical-align: top;\n",
       "    }\n",
       "</style>\n",
       "<table border=\"1\" class=\"dataframe\">\n",
       "  <thead>\n",
       "    <tr style=\"text-align: right;\">\n",
       "      <th></th>\n",
       "      <th>index</th>\n",
       "      <th>prop_name</th>\n",
       "    </tr>\n",
       "  </thead>\n",
       "  <tbody>\n",
       "    <tr>\n",
       "      <th>0</th>\n",
       "      <td>PROPOSITION 057 - CRIMINAL SENTENCES. JUVENILE...</td>\n",
       "      <td>13</td>\n",
       "    </tr>\n",
       "    <tr>\n",
       "      <th>1</th>\n",
       "      <td>PROPOSITION 056 - CIGARETTE TAX TO FUND HEALTH...</td>\n",
       "      <td>12</td>\n",
       "    </tr>\n",
       "    <tr>\n",
       "      <th>2</th>\n",
       "      <td>PROPOSITION 064- MARIJUANA LEGALIZATION. INITI...</td>\n",
       "      <td>11</td>\n",
       "    </tr>\n",
       "    <tr>\n",
       "      <th>3</th>\n",
       "      <td>PROPOSITION 066- DEATH PENALTY. PROCEDURES. IN...</td>\n",
       "      <td>9</td>\n",
       "    </tr>\n",
       "    <tr>\n",
       "      <th>4</th>\n",
       "      <td>PROPOSITION 055 - TAX EXTENSION TO FUND EDUCAT...</td>\n",
       "      <td>8</td>\n",
       "    </tr>\n",
       "    <tr>\n",
       "      <th>5</th>\n",
       "      <td>PROPOSITION 067- REFERENDUM TO OVERTURN BAN ON...</td>\n",
       "      <td>7</td>\n",
       "    </tr>\n",
       "    <tr>\n",
       "      <th>6</th>\n",
       "      <td>PROPOSITION 062- DEATH PENALTY. INITIATIVE STA...</td>\n",
       "      <td>7</td>\n",
       "    </tr>\n",
       "    <tr>\n",
       "      <th>7</th>\n",
       "      <td>PROPOSITION 059- SB 254 (CHAPTER 20, STATUTES ...</td>\n",
       "      <td>6</td>\n",
       "    </tr>\n",
       "    <tr>\n",
       "      <th>8</th>\n",
       "      <td>PROPOSITION 053 - REVENUE BONDS. STATEWIDE VOT...</td>\n",
       "      <td>4</td>\n",
       "    </tr>\n",
       "    <tr>\n",
       "      <th>9</th>\n",
       "      <td>PROPOSITION 054 - LEGISLATURE. LEGISLATION AND...</td>\n",
       "      <td>4</td>\n",
       "    </tr>\n",
       "    <tr>\n",
       "      <th>10</th>\n",
       "      <td>PROPOSITION 058 - SB 1174 (CHAPTER 753, STATUT...</td>\n",
       "      <td>4</td>\n",
       "    </tr>\n",
       "    <tr>\n",
       "      <th>11</th>\n",
       "      <td>PROPOSITION 063- FIREARMS. AMMUNITION SALES. I...</td>\n",
       "      <td>4</td>\n",
       "    </tr>\n",
       "    <tr>\n",
       "      <th>12</th>\n",
       "      <td>PROPOSITION 051 - SCHOOL BONDS. FUNDING FOR K-...</td>\n",
       "      <td>4</td>\n",
       "    </tr>\n",
       "    <tr>\n",
       "      <th>13</th>\n",
       "      <td>PROPOSITION 052 - STATE FEES ON HOSPITALS. FED...</td>\n",
       "      <td>3</td>\n",
       "    </tr>\n",
       "    <tr>\n",
       "      <th>14</th>\n",
       "      <td>PROPOSITION 061- STATE PRESCRIPTION DRUG PURCH...</td>\n",
       "      <td>3</td>\n",
       "    </tr>\n",
       "    <tr>\n",
       "      <th>15</th>\n",
       "      <td>PROPOSITION 060- ADULT FILMS. CONDOMS. HEALTH ...</td>\n",
       "      <td>2</td>\n",
       "    </tr>\n",
       "    <tr>\n",
       "      <th>16</th>\n",
       "      <td>PROPOSITION 065- CARRY-OUT BAGS. CHARGES. INIT...</td>\n",
       "      <td>1</td>\n",
       "    </tr>\n",
       "  </tbody>\n",
       "</table>\n",
       "</div>"
      ],
      "text/plain": [
       "                                                index  prop_name\n",
       "0   PROPOSITION 057 - CRIMINAL SENTENCES. JUVENILE...         13\n",
       "1   PROPOSITION 056 - CIGARETTE TAX TO FUND HEALTH...         12\n",
       "2   PROPOSITION 064- MARIJUANA LEGALIZATION. INITI...         11\n",
       "3   PROPOSITION 066- DEATH PENALTY. PROCEDURES. IN...          9\n",
       "4   PROPOSITION 055 - TAX EXTENSION TO FUND EDUCAT...          8\n",
       "5   PROPOSITION 067- REFERENDUM TO OVERTURN BAN ON...          7\n",
       "6   PROPOSITION 062- DEATH PENALTY. INITIATIVE STA...          7\n",
       "7   PROPOSITION 059- SB 254 (CHAPTER 20, STATUTES ...          6\n",
       "8   PROPOSITION 053 - REVENUE BONDS. STATEWIDE VOT...          4\n",
       "9   PROPOSITION 054 - LEGISLATURE. LEGISLATION AND...          4\n",
       "10  PROPOSITION 058 - SB 1174 (CHAPTER 753, STATUT...          4\n",
       "11  PROPOSITION 063- FIREARMS. AMMUNITION SALES. I...          4\n",
       "12  PROPOSITION 051 - SCHOOL BONDS. FUNDING FOR K-...          4\n",
       "13  PROPOSITION 052 - STATE FEES ON HOSPITALS. FED...          3\n",
       "14  PROPOSITION 061- STATE PRESCRIPTION DRUG PURCH...          3\n",
       "15  PROPOSITION 060- ADULT FILMS. CONDOMS. HEALTH ...          2\n",
       "16  PROPOSITION 065- CARRY-OUT BAGS. CHARGES. INIT...          1"
      ]
     },
     "execution_count": 30,
     "metadata": {},
     "output_type": "execute_result"
    }
   ],
   "source": [
    "props.prop_name.value_counts().reset_index()"
   ]
  },
  {
   "cell_type": "code",
   "execution_count": null,
   "metadata": {
    "collapsed": true
   },
   "outputs": [],
   "source": []
  }
 ],
 "metadata": {
  "kernelspec": {
   "display_name": "Python 2",
   "language": "python",
   "name": "python2"
  },
  "language_info": {
   "codemirror_mode": {
    "name": "ipython",
    "version": 2
   },
   "file_extension": ".py",
   "mimetype": "text/x-python",
   "name": "python",
   "nbconvert_exporter": "python",
   "pygments_lexer": "ipython2",
   "version": "2.7.13"
  }
 },
 "nbformat": 4,
 "nbformat_minor": 2
}
